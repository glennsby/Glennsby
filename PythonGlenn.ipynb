{
  "nbformat": 4,
  "nbformat_minor": 0,
  "metadata": {
    "colab": {
      "name": "PythonGlenn.ipynb",
      "provenance": [],
      "authorship_tag": "ABX9TyNaQl0pK8q11xm70R+8BR52",
      "include_colab_link": true
    },
    "kernelspec": {
      "name": "python3",
      "display_name": "Python 3"
    }
  },
  "cells": [
    {
      "cell_type": "markdown",
      "metadata": {
        "id": "view-in-github",
        "colab_type": "text"
      },
      "source": [
        "<a href=\"https://colab.research.google.com/github/glennsby/Glennsby/blob/main/PythonGlenn.ipynb\" target=\"_parent\"><img src=\"https://colab.research.google.com/assets/colab-badge.svg\" alt=\"Open In Colab\"/></a>"
      ]
    },
    {
      "cell_type": "code",
      "metadata": {
        "id": "Fcyqw750hDZp"
      },
      "source": [
        " import numpy as np\n",
        "import matplotlib.pyplot as plt"
      ],
      "execution_count": null,
      "outputs": []
    },
    {
      "cell_type": "code",
      "metadata": {
        "id": "5jyrmVTgjIrr"
      },
      "source": [
        " def cos(frek,tipe,ht,hr,d):\n",
        "  #frek = frekuensi (MHz)\n",
        "  #tipe = urban, suburban, open\n",
        "  #ht = tinggi tower (meter)\n",
        "  #hr = tinggi user (meter)\n",
        "  #d = jarak (meter)\n",
        "    if frek in range(150,1501):\n",
        "        Ca=69.55\n",
        "        Cb=26.16\n",
        "    elif frek in range(1501,2001):\n",
        "        Ca=46.3\n",
        "        Cb=33.9\n",
        "    \n",
        "    if tipe=='urban' :\n",
        "        Cm=0\n",
        "    elif tipe=='suburban' :\n",
        "        Cm= -2*((np.log10((frek/28)**2))-5.4)\n",
        "    elif tipe=='open' :\n",
        "        Cm= -4.78*(np.log10(frek))+18.33*(np.log10(frek))-40.94\n",
        "    else :\n",
        "        Cm='tipe salah'\n",
        "    \n",
        "    ahr = (1.1*np.log10(frek)-0.7)*hr-(1.56*np.log10(frek)-1.8)\n",
        "    Lp = Ca+(Cb*np.log10(frek))-(13.83*np.log(ht))-ahr+((44.9-6.55*np.log10(ht))*np.log10(d))-Cm\n",
        "    \n",
        "    return Lp"
      ],
      "execution_count": null,
      "outputs": []
    },
    {
      "cell_type": "code",
      "metadata": {
        "id": "nxKf_6D9jPDZ"
      },
      "source": [
        "tower=80  \n",
        "user=1.5 \n",
        "dmin=200 \n",
        "dmax=700 \n",
        "N=200 \n",
        "d=np.random.randint(dmin,dmax,N)"
      ],
      "execution_count": null,
      "outputs": []
    },
    {
      "cell_type": "code",
      "metadata": {
        "id": "cCuj26P_jT7e"
      },
      "source": [
        " def sudut1():\n",
        "  f=1800 \n",
        "  loc='urban'\n",
        "  LpUrban=cos(f,loc,tower,user,d)\n",
        "  d_sort=d[np.argsort(d)]\n",
        "  Urban_sort=LpUrban[np.argsort(d)]\n",
        "  return d_sort,Urban_sort"
      ],
      "execution_count": null,
      "outputs": []
    },
    {
      "cell_type": "code",
      "metadata": {
        "id": "75vO4mxbjZOP"
      },
      "source": [
        "def sudut2():\n",
        "  f=1800 \n",
        "  loc='open'\n",
        "  LpUrban=cos(f,loc,tower,user,d)\n",
        "  d_sort=d[np.argsort(d)]\n",
        "  Urban_sort=LpUrban[np.argsort(d)]\n",
        "  return d_sort,Urban_sort"
      ],
      "execution_count": null,
      "outputs": []
    },
    {
      "cell_type": "code",
      "metadata": {
        "id": "ne7XRNHLjagQ"
      },
      "source": [
        "def sudut3():\n",
        "  f=1800 \n",
        "  loc='suburban'\n",
        "  LpUrban=cos(f,loc,tower,user,d)\n",
        "  d_sort=d[np.argsort(d)]\n",
        "  Urban_sort=LpUrban[np.argsort(d)]\n",
        "  return d_sort,Urban_sort"
      ],
      "execution_count": null,
      "outputs": []
    },
    {
      "cell_type": "code",
      "metadata": {
        "id": "wlQii8D2jbVq"
      },
      "source": [
        "def alfa1():\n",
        "  f=700 \n",
        "  loc='urban'\n",
        "  LpUrban=cos(f,loc,tower,user,d)\n",
        "  d_sort=d[np.argsort(d)]\n",
        "  Urban_sort=LpUrban[np.argsort(d)]\n",
        "  return d_sort,Urban_sort"
      ],
      "execution_count": null,
      "outputs": []
    },
    {
      "cell_type": "code",
      "metadata": {
        "id": "YDVurMswjs1u"
      },
      "source": [
        "def alfa2():\n",
        "  f=900 \n",
        "  loc='urban'\n",
        "  LpUrban=cos(f,loc,tower,user,d)\n",
        "  d_sort=d[np.argsort(d)]\n",
        "  Urban_sort=LpUrban[np.argsort(d)]\n",
        "  return d_sort,Urban_sort"
      ],
      "execution_count": null,
      "outputs": []
    },
    {
      "cell_type": "code",
      "metadata": {
        "id": "IO8t_cM3jtKc"
      },
      "source": [
        "def alfa3():\n",
        "  f=1800 \n",
        "  loc='urban'\n",
        "  LpUrban=cos(f,loc,tower,user,d)\n",
        "  d_sort=d[np.argsort(d)]\n",
        "  Urban_sort=LpUrban[np.argsort(d)]\n",
        "  return d_sort,Urban_sort"
      ],
      "execution_count": null,
      "outputs": []
    },
    {
      "cell_type": "code",
      "metadata": {
        "id": "o1nBVGknjtaj"
      },
      "source": [
        "a1,b1 = sudut1()\n",
        "a2,b2 = sudut2()\n",
        "a3,b3 = sudut3()\n",
        " \n",
        "x1,y1 = alfa1()\n",
        "x2,y2 = alfa2()\n",
        "x3,y3 = alfa3()"
      ],
      "execution_count": null,
      "outputs": []
    },
    {
      "cell_type": "code",
      "metadata": {
        "colab": {
          "base_uri": "https://localhost:8080/",
          "height": 426
        },
        "id": "C6ZhVlLPj38J",
        "outputId": "dc430390-03b5-479e-94b3-feb604bfc30f"
      },
      "source": [
        "plt.figure()\n",
        "plt.plot(a1,b1,'b', label='urban')\n",
        "plt.plot(a2,b2,'r', label='open')\n",
        "plt.plot(a3,b3,'k', label='suburban')\n",
        "plt.legend()\n",
        "plt.xlabel('Jarak (m)')\n",
        "plt.ylabel('Path Loss (dB)')\n",
        "plt.show()\n",
        " \n",
        "plt.figure()\n",
        "plt.plot(x1,y1,'g', label='700 Mhz')\n",
        "plt.plot(x2,y2,'m', label='900 Mhz')\n",
        "plt.plot(x3,y3,'c', label='1800 Mhz')\n",
        "plt.legend()\n",
        "plt.xlabel('Jarak (m)')\n",
        "plt.ylabel('Path Loss (dB)')\n",
        "plt.show()"
      ],
      "execution_count": null,
      "outputs": [
        {
          "output_type": "display_data",
          "data": {
            "image/png": "[encoded data removed]",
            "text/plain": [
              "<Figure size 432x288 with 1 Axes>"
            ]
          },
          "metadata": {
            "tags": [],
            "needs_background": "light"
          }
        },
        {
          "output_type": "display_data",
          "data": {
            "image/png": "[encoded data removed]",
            "text/plain": [
              "<Figure size 432x288 with 1 Axes>"
            ]
          },
          "metadata": {
            "tags": [],
            "needs_background": "light"
          }
        }
      ]
    },
    {
      "cell_type": "code",
      "metadata": {
        "id": "4HKQASezj4Ip"
      },
      "source": [
        ""
      ],
      "execution_count": null,
      "outputs": []
    }
  ]
}